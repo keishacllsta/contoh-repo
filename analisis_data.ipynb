{
 "cells": [
  {
   "cell_type": "markdown",
   "metadata": {},
   "source": [
    "# Analisis data kelahiran"
   ]
  },
  {
   "cell_type": "markdown",
   "metadata": {},
   "source": [
    "ini merupakan analisis data kelahiran provinsi sumatera selatan tahun 2023"
   ]
  }
 ],
 "metadata": {
  "language_info": {
   "name": "python"
  },
  "orig_nbformat": 4
 },
 "nbformat": 4,
 "nbformat_minor": 2
}
